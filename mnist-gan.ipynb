{
 "cells": [
  {
   "cell_type": "code",
   "execution_count": 3,
   "metadata": {},
   "outputs": [],
   "source": [
    "# !ulimit -v 80000\n",
    "!ulimit -v 8000000"
   ]
  },
  {
   "cell_type": "code",
   "execution_count": 8,
   "metadata": {},
   "outputs": [],
   "source": [
    "import os\n",
    "\n",
    "import cv2\n",
    "\n",
    "import numpy as np\n",
    "import matplotlib.pyplot as plt\n",
    "\n",
    "import torchvision.transforms as transforms\n",
    "from torchvision.utils import save_image\n",
    "\n",
    "from torch.utils.data import DataLoader\n",
    "from torchvision import datasets, models, transforms\n",
    "from torch.autograd import Variable\n",
    "\n",
    "import torch.nn as nn\n",
    "import torch.nn.functional as F\n",
    "import torch"
   ]
  },
  {
   "cell_type": "code",
   "execution_count": 57,
   "metadata": {},
   "outputs": [],
   "source": [
    "mnist_trainset = datasets.MNIST(root='./data', train=True, download=True,\n",
    "                                transform=transforms.Compose([\n",
    "                                    transforms.ToTensor(),\n",
    "                                    transforms.Normalize((0.1307,), (0.3081,))\n",
    "                                ]))\n",
    "\n",
    "mnist_dataloader = DataLoader(mnist_trainset, batch_size=4)\n",
    "dataloader_size = len(mnist_dataloader)"
   ]
  },
  {
   "cell_type": "code",
   "execution_count": 54,
   "metadata": {},
   "outputs": [
    {
     "data": {
      "image/png": "[encoded data removed]",
      "text/plain": [
       "<Figure size 432x288 with 4 Axes>"
      ]
     },
     "metadata": {},
     "output_type": "display_data"
    }
   ],
   "source": [
    "images, _ = next(iter(mnist_dataloader))\n",
    "\n",
    "for i, image in enumerate(images):\n",
    "    plt.subplot(2, 2, i + 1)\n",
    "    plt.imshow(image[0, :, :], cmap='gray')\n",
    "    plt.axis('off')\n",
    "plt.show()"
   ]
  },
  {
   "cell_type": "code",
   "execution_count": 48,
   "metadata": {},
   "outputs": [],
   "source": [
    "class Generator(nn.Module):\n",
    "    def __init__(self, input_size, image_size=128, n_channels=3):\n",
    "        super(Generator, self).__init__()\n",
    "        \n",
    "        self.input_size = input_size\n",
    "        self.init_size = np.ceil(image_size / 8).astype(int)\n",
    "        \n",
    "        self.fc1 = nn.Linear(self.input_size, 128 * self.init_size * self.init_size)\n",
    "        \n",
    "        self.conv_block1 = nn.Sequential(\n",
    "            nn.ConvTranspose2d(128, 64, kernel_size=(5, 5), stride=2, padding=2, output_padding=1),\n",
    "            nn.BatchNorm2d(64)            \n",
    "        )\n",
    "        \n",
    "        self.conv_block2 = nn.Sequential(\n",
    "            nn.ConvTranspose2d(64, 32, kernel_size=(5, 5), stride=2, padding=2, output_padding=1),\n",
    "            nn.BatchNorm2d(32)\n",
    "        )\n",
    "        \n",
    "        self.conv_block3 = nn.Sequential(\n",
    "            nn.ConvTranspose2d(32, n_channels, kernel_size=(5, 5), stride=2, padding=2, output_padding=1),\n",
    "            nn.Tanh()\n",
    "        )\n",
    "        \n",
    "        \n",
    "        self.relu = nn.ReLU()\n",
    "        self.tanh = nn.Tanh()\n",
    "        \n",
    "        \n",
    "    def forward(self, z):\n",
    "        hidden = self.fc1(z)\n",
    "        hidden = hidden.view(-1, 128, self.init_size, self.init_size)\n",
    "        hidden = self.conv_block1(hidden)\n",
    "        hidden = self.relu(hidden)\n",
    "        \n",
    "        hidden = self.conv_block2(hidden)\n",
    "        hidden = self.relu(hidden)\n",
    "        \n",
    "        hidden = self.conv_block3(hidden)\n",
    "        output = self.tanh(hidden)\n",
    "        \n",
    "        return output"
   ]
  },
  {
   "cell_type": "code",
   "execution_count": 49,
   "metadata": {},
   "outputs": [],
   "source": [
    "class Discriminator(nn.Module):\n",
    "    def __init__(self, image_size, n_channels=3):\n",
    "        super(Discriminator, self).__init__()\n",
    "        \n",
    "        self.image_size = image_size\n",
    "        self.fc_size = np.ceil(self.image_size / 8).astype(int)\n",
    "        \n",
    "        self.conv_block1 = nn.Sequential(\n",
    "            nn.Conv2d(n_channels, 32, kernel_size=(5, 5), stride=2, padding=2, bias=False),\n",
    "            nn.BatchNorm2d(32)            \n",
    "        )\n",
    "        \n",
    "        self.conv_block2 = nn.Sequential(\n",
    "            nn.Conv2d(32, 64, kernel_size=(5, 5), stride=2, padding=2, bias=False),\n",
    "            nn.BatchNorm2d(64)\n",
    "        )\n",
    "        \n",
    "        self.conv_block3 = nn.Sequential(\n",
    "            nn.Conv2d(64, 128, kernel_size=(3, 3), stride=2, padding=1, bias=False),\n",
    "            nn.BatchNorm2d(128)\n",
    "        )\n",
    "        \n",
    "        self.fc = nn.Sequential(\n",
    "            nn.Linear(128 * self.fc_size * self.fc_size, 256),\n",
    "            nn.Linear(256, 1)\n",
    "        )\n",
    "        \n",
    "        self.relu = nn.ReLU()\n",
    "        \n",
    "    def forward(self, x):\n",
    "        x = self.conv_block1(x)\n",
    "        x = self.relu(x)\n",
    "        \n",
    "        x = self.conv_block2(x)\n",
    "        x = self.relu(x)\n",
    "        \n",
    "        x = self.conv_block3(x)\n",
    "        x = self.relu(x)\n",
    "        \n",
    "        x = x.view(-1, 128 * self.fc_size * self.fc_size)\n",
    "        \n",
    "        output = self.fc(x)\n",
    "        \n",
    "        return output"
   ]
  },
  {
   "cell_type": "code",
   "execution_count": 50,
   "metadata": {},
   "outputs": [],
   "source": [
    "n_epochs = 100\n",
    "generator_lr = 2e-6\n",
    "discriminator_lr = 1e-4\n",
    "\n",
    "generator = Generator(100, 28, n_channels=1)\n",
    "discriminator = Discriminator(28, n_channels=1)\n",
    "\n",
    "optimizer_g = torch.optim.Adam(generator.parameters(), lr=generator_lr)\n",
    "optimizer_d = torch.optim.Adam(discriminator.parameters(), lr=discriminator_lr)\n",
    "\n",
    "adversarial_loss = torch.nn.BCEWithLogitsLoss()"
   ]
  },
  {
   "cell_type": "code",
   "execution_count": null,
   "metadata": {
    "scrolled": false
   },
   "outputs": [
    {
     "data": {
      "image/png": "[encoded data removed]",
      "text/plain": [
       "<Figure size 432x288 with 2 Axes>"
      ]
     },
     "metadata": {},
     "output_type": "display_data"
    },
    {
     "name": "stdout",
     "output_type": "stream",
     "text": [
      "[Epoch 0/100] [D loss: 0.000000] [G loss: 20.579609]\n"
     ]
    }
   ],
   "source": [
    "d_history = []\n",
    "g_history = []\n",
    "for epoch in range(n_epochs):\n",
    "    running_d_loss = 0\n",
    "    running_g_loss = 0\n",
    "    for images, _ in mnist_dataloader:\n",
    "        real = Variable(torch.ones(images.shape[0], 1), requires_grad=False)\n",
    "        fake = Variable(torch.zeros(images.shape[0], 1), requires_grad=False)\n",
    "\n",
    "        z = Variable(torch.Tensor(np.random.randn(images.shape[0], 100)))\n",
    "        generated_images = generator(z)\n",
    "\n",
    "        g_loss = adversarial_loss(discriminator(generated_images), real)\n",
    "\n",
    "        g_loss.backward()\n",
    "        optimizer_g.step()\n",
    "\n",
    "        optimizer_d.zero_grad()\n",
    "        real_loss = adversarial_loss(discriminator(images), real)\n",
    "        fake_loss = adversarial_loss(discriminator(generated_images.detach()), fake)\n",
    "        d_loss = (real_loss + fake_loss) / 2\n",
    "\n",
    "        d_loss.backward()\n",
    "        optimizer_d.step()\n",
    "        \n",
    "        running_d_loss += d_loss\n",
    "        running_g_loss += g_loss\n",
    "\n",
    "        \n",
    "    running_d_loss /= dataloader_size\n",
    "    running_g_loss /= dataloader_size\n",
    "    \n",
    "    d_history.append(running_d_loss)\n",
    "    g_history.append(running_g_loss)\n",
    "    \n",
    "    real_img = images[0, 0].data.numpy()\n",
    "    gen_img = generated_images[0, 0].data.numpy()\n",
    "    \n",
    "    plt.subplot(1, 2, 1)\n",
    "    plt.title('gen_img: {:.4f}, {:.4f}'.format(gen_img.mean(), gen_img.var()))\n",
    "    plt.imshow(gen_img)\n",
    "    plt.axis('off')\n",
    "    \n",
    "    plt.subplot(1, 2, 2)\n",
    "    plt.title('real_img: {:.4f}, {:.4f}'.format(real_img.mean(), real_img.var()))\n",
    "    plt.imshow(real_img)\n",
    "    plt.axis('off')\n",
    "    plt.show()\n",
    "    print (\"[Epoch %d/%d] [D loss: %f] [G loss: %f]\" % (epoch, n_epochs,\n",
    "                                                    running_d_loss, running_g_loss))"
   ]
  }
 ],
 "metadata": {
  "kernelspec": {
   "display_name": "Python [conda env:snowflake]",
   "language": "python",
   "name": "conda-env-snowflake-py"
  },
  "language_info": {
   "codemirror_mode": {
    "name": "ipython",
    "version": 3
   },
   "file_extension": ".py",
   "mimetype": "text/x-python",
   "name": "python",
   "nbconvert_exporter": "python",
   "pygments_lexer": "ipython3",
   "version": "3.6.5"
  }
 },
 "nbformat": 4,
 "nbformat_minor": 2
}
